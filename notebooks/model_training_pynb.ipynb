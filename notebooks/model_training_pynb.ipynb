{
  "nbformat": 4,
  "nbformat_minor": 0,
  "metadata": {
    "colab": {
      "provenance": []
    },
    "kernelspec": {
      "name": "python3",
      "display_name": "Python 3"
    },
    "language_info": {
      "name": "python"
    }
  },
  "cells": [
    {
      "cell_type": "code",
      "execution_count": 25,
      "metadata": {
        "id": "FgSSdlQZUgMY"
      },
      "outputs": [],
      "source": [
        "#Import libraries\n",
        "import os\n",
        "import pandas as pd\n",
        "import numpy as np\n",
        "from sklearn.model_selection import train_test_split, GridSearchCV, cross_val_score, cross_validate\n",
        "from sklearn.impute import SimpleImputer\n",
        "from sklearn.preprocessing import StandardScaler\n",
        "from sklearn.pipeline import Pipeline\n",
        "from sklearn.linear_model import LogisticRegression\n",
        "from sklearn.ensemble import RandomForestClassifier\n",
        "from sklearn.linear_model import LinearRegression\n",
        "from sklearn.metrics import (accuracy_score, precision_score, recall_score,\n",
        "                             f1_score, roc_auc_score, confusion_matrix, classification_report,\n",
        "                             roc_curve)\n",
        "import joblib\n",
        "import matplotlib.pyplot as plt\n",
        "import seaborn as sns\n",
        "import json"
      ]
    },
    {
      "cell_type": "code",
      "source": [
        "# Paths and load dataset\n",
        "DATA_PATH = \"/content/diabetes.csv\"\n",
        "MODEL_DIR = \"/content/model\"\n",
        "os.makedirs(MODEL_DIR, exist_ok=True)\n",
        "\n",
        "df = pd.read_csv(DATA_PATH)\n",
        "\n",
        "print(\"Shape:\", df.shape)\n",
        "print(df.head())\n",
        "print(df.info())\n",
        "print(df.describe())"
      ],
      "metadata": {
        "colab": {
          "base_uri": "https://localhost:8080/"
        },
        "id": "bbYJNJbZWPul",
        "outputId": "2774995b-fcd8-4ed1-c7bb-051ce88ae29c"
      },
      "execution_count": 26,
      "outputs": [
        {
          "output_type": "stream",
          "name": "stdout",
          "text": [
            "Shape: (768, 9)\n",
            "   Pregnancies  Glucose  BloodPressure  SkinThickness  Insulin   BMI  \\\n",
            "0            6      148             72             35        0  33.6   \n",
            "1            1       85             66             29        0  26.6   \n",
            "2            8      183             64              0        0  23.3   \n",
            "3            1       89             66             23       94  28.1   \n",
            "4            0      137             40             35      168  43.1   \n",
            "\n",
            "   DiabetesPedigreeFunction  Age  Outcome  \n",
            "0                     0.627   50        1  \n",
            "1                     0.351   31        0  \n",
            "2                     0.672   32        1  \n",
            "3                     0.167   21        0  \n",
            "4                     2.288   33        1  \n",
            "<class 'pandas.core.frame.DataFrame'>\n",
            "RangeIndex: 768 entries, 0 to 767\n",
            "Data columns (total 9 columns):\n",
            " #   Column                    Non-Null Count  Dtype  \n",
            "---  ------                    --------------  -----  \n",
            " 0   Pregnancies               768 non-null    int64  \n",
            " 1   Glucose                   768 non-null    int64  \n",
            " 2   BloodPressure             768 non-null    int64  \n",
            " 3   SkinThickness             768 non-null    int64  \n",
            " 4   Insulin                   768 non-null    int64  \n",
            " 5   BMI                       768 non-null    float64\n",
            " 6   DiabetesPedigreeFunction  768 non-null    float64\n",
            " 7   Age                       768 non-null    int64  \n",
            " 8   Outcome                   768 non-null    int64  \n",
            "dtypes: float64(2), int64(7)\n",
            "memory usage: 54.1 KB\n",
            "None\n",
            "       Pregnancies     Glucose  BloodPressure  SkinThickness     Insulin  \\\n",
            "count   768.000000  768.000000     768.000000     768.000000  768.000000   \n",
            "mean      3.845052  120.894531      69.105469      20.536458   79.799479   \n",
            "std       3.369578   31.972618      19.355807      15.952218  115.244002   \n",
            "min       0.000000    0.000000       0.000000       0.000000    0.000000   \n",
            "25%       1.000000   99.000000      62.000000       0.000000    0.000000   \n",
            "50%       3.000000  117.000000      72.000000      23.000000   30.500000   \n",
            "75%       6.000000  140.250000      80.000000      32.000000  127.250000   \n",
            "max      17.000000  199.000000     122.000000      99.000000  846.000000   \n",
            "\n",
            "              BMI  DiabetesPedigreeFunction         Age     Outcome  \n",
            "count  768.000000                768.000000  768.000000  768.000000  \n",
            "mean    31.992578                  0.471876   33.240885    0.348958  \n",
            "std      7.884160                  0.331329   11.760232    0.476951  \n",
            "min      0.000000                  0.078000   21.000000    0.000000  \n",
            "25%     27.300000                  0.243750   24.000000    0.000000  \n",
            "50%     32.000000                  0.372500   29.000000    0.000000  \n",
            "75%     36.600000                  0.626250   41.000000    1.000000  \n",
            "max     67.100000                  2.420000   81.000000    1.000000  \n"
          ]
        }
      ]
    },
    {
      "cell_type": "code",
      "source": [
        "\n",
        "cols_with_zero_as_missing = [\"Glucose\", \"BloodPressure\", \"SkinThickness\", \"Insulin\", \"BMI\"]\n",
        "df[cols_with_zero_as_missing] = df[cols_with_zero_as_missing].replace(0, np.nan)\n",
        "imputer = SimpleImputer(strategy=\"median\")\n",
        "df[cols_with_zero_as_missing] = imputer.fit_transform(df[cols_with_zero_as_missing])\n"
      ],
      "metadata": {
        "id": "IODhZtnEZhlF"
      },
      "execution_count": 27,
      "outputs": []
    },
    {
      "cell_type": "code",
      "source": [
        "# Train\n",
        "X = df.drop(\"Outcome\", axis=1)\n",
        "y = df[\"Outcome\"]\n",
        "\n",
        "# Split data\n",
        "X_train, X_test, y_train, y_test = train_test_split(\n",
        "    X, y, test_size=0.2, random_state=42, stratify=y\n",
        ")\n"
      ],
      "metadata": {
        "id": "aKwd5fcYZlSU"
      },
      "execution_count": 28,
      "outputs": []
    },
    {
      "cell_type": "code",
      "source": [
        "# Define models and cross-validation\n",
        "scaler = StandardScaler()\n",
        "\n",
        "# Pipelines\n",
        "pipe_lr = Pipeline([\n",
        "    (\"scaler\", scaler),\n",
        "    (\"clf\", LogisticRegression(max_iter=1000, random_state=42))\n",
        "])\n",
        "\n",
        "pipe_rf = Pipeline([\n",
        "    (\"scaler\", scaler),\n",
        "    (\"clf\", RandomForestClassifier(random_state=42))\n",
        "])\n",
        "\n",
        "# Cross-validation\n",
        "models = {\"LogisticRegression\": pipe_lr, \"RandomForest\": pipe_rf}\n",
        "cv_results = {}\n",
        "for name, model in models.items():\n",
        "    scores = cross_validate(model, X_train, y_train, cv=5,\n",
        "                            scoring=[\"accuracy\", \"precision\", \"recall\", \"f1\", \"roc_auc\"],\n",
        "                            return_train_score=False)\n",
        "    cv_results[name] = {k: np.mean(v) for k, v in scores.items()}\n",
        "    print(f\"{name} CV results:\", cv_results[name])\n"
      ],
      "metadata": {
        "colab": {
          "base_uri": "https://localhost:8080/"
        },
        "id": "SQuIckvhZzCG",
        "outputId": "b7df8563-3f70-4114-b287-56295a93099a"
      },
      "execution_count": 29,
      "outputs": [
        {
          "output_type": "stream",
          "name": "stdout",
          "text": [
            "LogisticRegression CV results: {'fit_time': np.float64(0.01024165153503418), 'score_time': np.float64(0.024793338775634766), 'test_accuracy': np.float64(0.7817939490870318), 'test_precision': np.float64(0.7397737556561086), 'test_recall': np.float64(0.5843853820598006), 'test_f1': np.float64(0.6496858824779203), 'test_roc_auc': np.float64(0.8432876522702104)}\n",
            "RandomForest CV results: {'fit_time': np.float64(0.22569899559020995), 'score_time': np.float64(0.03262209892272949), 'test_accuracy': np.float64(0.7687724910035986), 'test_precision': np.float64(0.7108098208098209), 'test_recall': np.float64(0.57984496124031), 'test_f1': np.float64(0.6363106081885423), 'test_roc_auc': np.float64(0.8228848283499446)}\n"
          ]
        }
      ]
    },
    {
      "cell_type": "code",
      "source": [
        "# Hyperparameter tuning for RandomForest\n",
        "param_grid_rf = {\n",
        "    \"clf__n_estimators\": [100, 200],\n",
        "    \"clf__max_depth\": [None, 6, 10],\n",
        "    \"clf__min_samples_split\": [2, 5]\n",
        "}\n",
        "\n",
        "grid_rf = GridSearchCV(pipe_rf, param_grid_rf, cv=4, scoring=\"roc_auc\", n_jobs=-1)\n",
        "grid_rf.fit(X_train, y_train)\n",
        "print(\"RF best params:\", grid_rf.best_params_, \"best score:\", grid_rf.best_score_)\n"
      ],
      "metadata": {
        "colab": {
          "base_uri": "https://localhost:8080/"
        },
        "id": "l4cIyPI8Z8ak",
        "outputId": "bfba7453-ad44-4939-829d-49391752c5db"
      },
      "execution_count": 30,
      "outputs": [
        {
          "output_type": "stream",
          "name": "stdout",
          "text": [
            "RF best params: {'clf__max_depth': 6, 'clf__min_samples_split': 2, 'clf__n_estimators': 100} best score: 0.8356804682040532\n"
          ]
        }
      ]
    },
    {
      "cell_type": "code",
      "source": [
        "# Fit final models and evaluate\n",
        "pipe_lr.fit(X_train, y_train)\n",
        "best_rf = grid_rf.best_estimator_\n",
        "best_rf.fit(X_train, y_train)\n",
        "\n",
        "def evaluate(model, Xt, yt):\n",
        "    ypred = model.predict(Xt)\n",
        "    yprob = model.predict_proba(Xt)[:, 1]\n",
        "    return {\n",
        "        \"accuracy\": accuracy_score(yt, ypred),\n",
        "        \"precision\": precision_score(yt, ypred),\n",
        "        \"recall\": recall_score(yt, ypred),\n",
        "        \"f1\": f1_score(yt, ypred),\n",
        "        \"roc_auc\": roc_auc_score(yt, yprob),\n",
        "        \"confusion_matrix\": confusion_matrix(yt, ypred),\n",
        "        \"classification_report\": classification_report(yt, ypred)\n",
        "    }\n",
        "\n",
        "res_lr = evaluate(pipe_lr, X_test, y_test)\n",
        "res_rf = evaluate(best_rf, X_test, y_test)\n",
        "\n",
        "print(\"Logistic Regression test results:\\n\", res_lr)\n",
        "print(\"Random Forest test results:\\n\", res_rf)\n",
        "\n",
        "pipe_lr.fit(X_train, y_train)\n",
        "best_rf = grid_rf.best_estimator_\n",
        "best_rf.fit(X_train, y_train)\n",
        "\n",
        "def evaluate(model, Xt, yt):\n",
        "    ypred = model.predict(Xt)\n",
        "    yprob = model.predict_proba(Xt)[:, 1]\n",
        "    return {\n",
        "        \"accuracy\": accuracy_score(yt, ypred),\n",
        "        \"precision\": precision_score(yt, ypred),\n",
        "        \"recall\": recall_score(yt, ypred),\n",
        "        \"f1\": f1_score(yt, ypred),\n",
        "        \"roc_auc\": roc_auc_score(yt, yprob),\n",
        "        \"confusion_matrix\": confusion_matrix(yt, ypred),\n",
        "        \"classification_report\": classification_report(yt, ypred)\n",
        "    }\n",
        "\n",
        "res_lr = evaluate(pipe_lr, X_test, y_test)\n",
        "res_rf = evaluate(best_rf, X_test, y_test)\n",
        "\n",
        "print(\"Logistic Regression test results:\\n\", res_lr)\n",
        "print(\"Random Forest test results:\\n\", res_rf)\n"
      ],
      "metadata": {
        "colab": {
          "base_uri": "https://localhost:8080/"
        },
        "id": "3Gto2qhmaGus",
        "outputId": "64234e9e-33aa-40b9-963b-8f69a96a3f10"
      },
      "execution_count": 31,
      "outputs": [
        {
          "output_type": "stream",
          "name": "stdout",
          "text": [
            "Logistic Regression test results:\n",
            " {'accuracy': 0.7077922077922078, 'precision': 0.6, 'recall': 0.5, 'f1': 0.5454545454545454, 'roc_auc': np.float64(0.812962962962963), 'confusion_matrix': array([[82, 18],\n",
            "       [27, 27]]), 'classification_report': '              precision    recall  f1-score   support\\n\\n           0       0.75      0.82      0.78       100\\n           1       0.60      0.50      0.55        54\\n\\n    accuracy                           0.71       154\\n   macro avg       0.68      0.66      0.67       154\\nweighted avg       0.70      0.71      0.70       154\\n'}\n",
            "Random Forest test results:\n",
            " {'accuracy': 0.7402597402597403, 'precision': 0.6666666666666666, 'recall': 0.5185185185185185, 'f1': 0.5833333333333334, 'roc_auc': np.float64(0.817037037037037), 'confusion_matrix': array([[86, 14],\n",
            "       [26, 28]]), 'classification_report': '              precision    recall  f1-score   support\\n\\n           0       0.77      0.86      0.81       100\\n           1       0.67      0.52      0.58        54\\n\\n    accuracy                           0.74       154\\n   macro avg       0.72      0.69      0.70       154\\nweighted avg       0.73      0.74      0.73       154\\n'}\n",
            "Logistic Regression test results:\n",
            " {'accuracy': 0.7077922077922078, 'precision': 0.6, 'recall': 0.5, 'f1': 0.5454545454545454, 'roc_auc': np.float64(0.812962962962963), 'confusion_matrix': array([[82, 18],\n",
            "       [27, 27]]), 'classification_report': '              precision    recall  f1-score   support\\n\\n           0       0.75      0.82      0.78       100\\n           1       0.60      0.50      0.55        54\\n\\n    accuracy                           0.71       154\\n   macro avg       0.68      0.66      0.67       154\\nweighted avg       0.70      0.71      0.70       154\\n'}\n",
            "Random Forest test results:\n",
            " {'accuracy': 0.7402597402597403, 'precision': 0.6666666666666666, 'recall': 0.5185185185185185, 'f1': 0.5833333333333334, 'roc_auc': np.float64(0.817037037037037), 'confusion_matrix': array([[86, 14],\n",
            "       [26, 28]]), 'classification_report': '              precision    recall  f1-score   support\\n\\n           0       0.77      0.86      0.81       100\\n           1       0.67      0.52      0.58        54\\n\\n    accuracy                           0.74       154\\n   macro avg       0.72      0.69      0.70       154\\nweighted avg       0.73      0.74      0.73       154\\n'}\n"
          ]
        }
      ]
    },
    {
      "cell_type": "code",
      "source": [
        "# Select best model by ROC AUC\n",
        "best_model = best_rf if res_rf[\"roc_auc\"] >= res_lr[\"roc_auc\"] else pipe_lr\n",
        "print(\"Selected model:\", best_model)\n",
        "\n",
        "# Save model & scaler\n",
        "joblib.dump(best_model, os.path.join(MODEL_DIR, \"best_model.pkl\"))\n",
        "joblib.dump(scaler, os.path.join(MODEL_DIR, \"scaler.pkl\"))\n",
        "\n",
        "# Save metrics summary\n",
        "metrics_summary = {\n",
        "    \"LogisticRegression\": {k: float(v) for k, v in res_lr.items() if k not in [\"confusion_matrix\", \"classification_report\"]},\n",
        "    \"RandomForest\": {k: float(v) for k, v in res_rf.items() if k not in [\"confusion_matrix\", \"classification_report\"]},\n",
        "}\n",
        "with open(os.path.join(MODEL_DIR, \"metrics.json\"), \"w\") as f:\n",
        "    json.dump(metrics_summary, f, indent=2)\n",
        "\n",
        "print(\"Model and metrics saved in:\", MODEL_DIR)\n"
      ],
      "metadata": {
        "colab": {
          "base_uri": "https://localhost:8080/"
        },
        "id": "RCSh1Rc6aLb-",
        "outputId": "7854606e-1d52-47ff-ed90-b0c1e680bdc4"
      },
      "execution_count": 32,
      "outputs": [
        {
          "output_type": "stream",
          "name": "stdout",
          "text": [
            "Selected model: Pipeline(steps=[('scaler', StandardScaler()),\n",
            "                ('clf', RandomForestClassifier(max_depth=6, random_state=42))])\n",
            "Model and metrics saved in: /content/model\n"
          ]
        }
      ]
    },
    {
      "cell_type": "code",
      "source": [
        "# Plot ROC curves\n",
        "plt.figure(figsize=(8,6))\n",
        "for name, model in [(\"LR\", pipe_lr), (\"RF\", best_rf)]:\n",
        "    yprob = model.predict_proba(X_test)[:,1]\n",
        "    fpr, tpr, _ = roc_curve(y_test, yprob)\n",
        "    plt.plot(fpr, tpr, label=f\"{name} (AUC={roc_auc_score(y_test, yprob):.3f})\")\n",
        "plt.plot([0,1],[0,1],'k--')\n",
        "plt.xlabel(\"False Positive Rate\")\n",
        "plt.ylabel(\"True Positive Rate\")\n",
        "plt.title(\"ROC Curve\")\n",
        "plt.legend()\n",
        "plt.tight_layout()\n",
        "plt.savefig(os.path.join(MODEL_DIR, \"roc_curves.png\"))\n",
        "plt.show()"
      ],
      "metadata": {
        "colab": {
          "base_uri": "https://localhost:8080/",
          "height": 607
        },
        "id": "_OYR1zUqaPIt",
        "outputId": "5ca230a8-febd-48ad-a632-ab318226ef3c"
      },
      "execution_count": 33,
      "outputs": [
        {
          "output_type": "display_data",
          "data": {
            "text/plain": [
              "<Figure size 800x600 with 1 Axes>"
            ],
            "image/png": "[encoded data removed]"
          },
          "metadata": {}
        }
      ]
    },
    {
      "cell_type": "code",
      "source": [
        "X_skin = df[['BMI']]\n",
        "y_skin = df['SkinThickness']\n",
        "\n",
        "# Train linear regression model\n",
        "skin_model = LinearRegression()\n",
        "skin_model.fit(X_skin, y_skin)\n",
        "\n",
        "# Save the skin thickness estimator model\n",
        "joblib.dump(skin_model, os.path.join(MODEL_DIR, \"skin_thickness_estimator.pkl\"))\n",
        "\n",
        "print(\"Skin thickness estimator model trained and saved.\")\n"
      ],
      "metadata": {
        "colab": {
          "base_uri": "https://localhost:8080/"
        },
        "id": "UEcAxoHTaUBf",
        "outputId": "29160b9e-e3dd-4757-d49b-0ca1804435ee"
      },
      "execution_count": 34,
      "outputs": [
        {
          "output_type": "stream",
          "name": "stdout",
          "text": [
            "Skin thickness estimator model trained and saved.\n"
          ]
        }
      ]
    },
    {
      "cell_type": "code",
      "source": [],
      "metadata": {
        "id": "K-ydnUbIv7zu"
      },
      "execution_count": 34,
      "outputs": []
    }
  ]
}